{
 "cells": [
  {
   "cell_type": "code",
   "execution_count": 1,
   "metadata": {},
   "outputs": [],
   "source": [
    "import re"
   ]
  },
  {
   "cell_type": "code",
   "execution_count": 2,
   "metadata": {},
   "outputs": [],
   "source": [
    "text = \"The building contains asbestos and lead. Additionally, there are high levels of mercury and arsenic.\"\n",
    "\n",
    "excluded_materials = {\n",
    "    \"acetaldehyde\", \"acheson\", \"acid\", \"aflatoxins\", \"alcoholic\", \n",
    "    \"aminobiphenyl\", \"areca\", \"aristolochic\", \n",
    "    \"arsenic\", \"asbestos\", \"auramine\", \"azathioprine\", \"benzene\", \n",
    "    \"benzidine\", \"benzopyrene\", \"beryllium\", \"betelquid\", \"chloromethylether\", \n",
    "    \"busulfan\", \"butadiene\", \"cadmium\", \"chlorambucil\", \"chlornaphazine\", \n",
    "    \"chromiumvi\", \"clonorchis\", \"sinensis\", \"emissions\", \"gasification\", \n",
    "    \"tar\", \"coal\", \"cyclophosphamide\", \"cyclosporine\", \"dichloropropane\", \n",
    "    \"diethylstilbestrol\", \"exhaust\", \"diesel\", \n",
    "    \"barr\", \"erionite\", \"estrogen\", \n",
    "    \"progestogen\", \"ethanol\", \"ethylene oxide\", \"etoposide\", \n",
    "    \"etoposide\", \"cisplatin\", \"bleomycin\", \"firefighter\", \n",
    "    \"fission\", \"fluoro\", \"edenite\", \"fibrous\", \"amphibole\", \"formaldehyde\", \n",
    "    \"haematite\", \"helicobacter\", \"pylori\", \"hepatitis\", \"papilloma\", \n",
    "    \"ymphotropic\", \"ionizing\", \"radiation\", \"isopropyl\", \n",
    "    \"leather dust\", \"lindane\", \"melphalan\", \"methoxsalen\", \n",
    "    \"methyl\", \"methylenebis\", \"chloroaniline\", \"mopp\", \n",
    "    \"naphthylamine\", \"nickel\", \"nitrosonornicotine\", \n",
    "    \"opisthorchis\", \"viverrini\", \"opium\", \"pentachlorobiphenyl\", \"pentachlorodibenzofuran\", \"pentachlorophenol\", \n",
    "    \"phenacetin\", \"phosphorus32\", \"plutonium\", \"polychlorinated\" ,\"biphenyls\", \n",
    "    \"radioiodines\", \"radionuclides\", \"radium\", \"rubber\", \"schistosoma\", \"haematobium\", \n",
    "    \"semustine\", \"shale\", \"silica\",  \"soot\", \"sulfur\", \"talc\", \"asbestiform\", \"tamoxifen\", \n",
    "    \"tetrachlorodibenzo\", \"thiotepa\", \"thorium\", \"tobacco\", \"ortho\", \"toluidine\", \"treosulfan\", \n",
    "    \"trichloroethylene\", \"uvradiation\", \"tanning\", \n",
    "    \"chloride\", \"fumes\", \"woodchip\"\n",
    "}"
   ]
  },
  {
   "cell_type": "code",
   "execution_count": 3,
   "metadata": {},
   "outputs": [],
   "source": [
    "def calculate_normalized_harmfulness_score_and_list_materials(\n",
    "    text: str, \n",
    "    harmful_materials_count_threshold: int = 5,\n",
    "):\n",
    "    words = re.findall(r'\\b\\w+\\b', text.lower())\n",
    "    allchemicals = set()\n",
    "    for word in words:\n",
    "        if word in excluded_materials:\n",
    "            allchemicals.add(word)            \n",
    "    \n",
    "    if len(allchemicals) >= harmful_materials_count_threshold:\n",
    "        normalized_score = 1.0\n",
    "    else:\n",
    "        normalized_score = len(allchemicals) / max(1, harmful_materials_count_threshold) \n",
    "    \n",
    "    return normalized_score, allchemicals\n"
   ]
  },
  {
   "cell_type": "code",
   "execution_count": 4,
   "metadata": {},
   "outputs": [
    {
     "data": {
      "text/plain": [
       "(0.4, {'arsenic', 'asbestos'})"
      ]
     },
     "execution_count": 4,
     "metadata": {},
     "output_type": "execute_result"
    }
   ],
   "source": [
    "calculate_normalized_harmfulness_score_and_list_materials(text)"
   ]
  }
 ],
 "metadata": {
  "kernelspec": {
   "display_name": "Python 3",
   "language": "python",
   "name": "python3"
  },
  "language_info": {
   "codemirror_mode": {
    "name": "ipython",
    "version": 3
   },
   "file_extension": ".py",
   "mimetype": "text/x-python",
   "name": "python",
   "nbconvert_exporter": "python",
   "pygments_lexer": "ipython3",
   "version": "3.10.1"
  },
  "orig_nbformat": 4
 },
 "nbformat": 4,
 "nbformat_minor": 2
}
