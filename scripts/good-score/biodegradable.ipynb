{
 "cells": [
  {
   "cell_type": "code",
   "execution_count": null,
   "metadata": {},
   "outputs": [],
   "source": [
    "import re"
   ]
  },
  {
   "cell_type": "code",
   "execution_count": null,
   "metadata": {},
   "outputs": [],
   "source": [
    "text = \"This product is made out of organic fiber cultivated from switzerland wheat farms\""
   ]
  },
  {
   "cell_type": "code",
   "execution_count": null,
   "metadata": {},
   "outputs": [],
   "source": [
    "bio_friendly_materials_set = {\n",
    "    \"recyclable\", \"reusable\", \"compostable\", \"biodegradable\", \"sustainable\", \"green\", \n",
    "    \"organic\", \"renewable\", \"natural\", \"bamboo\", \"hemp\", \"jute\", \"cotton\", \"linen\", \n",
    "    \"wool\", \"silk\", \"cork\", \"soy\", \"paper\", \"cardboard\", \"glass\", \"metal\", \"aluminium\", \n",
    "    \"steel\", \"copper\", \"brass\", \"tin\", \"bioplastic\", \"upcycled\", \"solar\", \"wind\", \n",
    "    \"eco\", \"ethical\", \"fairtrade\", \"vegan\", \"clean\", \"pure\", \"untreated\", \"unbleached\", \n",
    "    \"undyed\", \"refillable\", \"degradable\", \"local\", \"handmade\", \"artisan\", \"bulk\", \n",
    "    \"conservation\", \"restoration\", \"biodiversity\", \"regenerative\", \"marine\", \"ocean\", \n",
    "    \"sea\", \"river\", \"lake\", \"stream\", \"air\", \"emission\", \"renewable\", \"alternative\", \n",
    "    \"biofuel\", \"hydropower\", \"hydroelectric\", \"solar\", \"wind\", \"geothermal\", \"bio\", \n",
    "    \"wave\", \"tidal\", \"electric\", \"hybrid\", \"bicycle\", \"walking\", \"public\", \"carpool\", \n",
    "    \"telecommuting\", \"videoconferencing\", \"remote\", \"wfh\", \"reforestation\", \"afforestation\", \n",
    "    \"protection\", \"forest\", \"wetland\", \"prairie\", \"coral\", \"mangrove\", \"reserve\", \n",
    "    \"sanctuary\", \"fisheries\", \"gardening\", \"landscaping\", \"building\", \"biofuel\", \"hydropower\", \"hydroelectric\", \n",
    "    \"geothermal\", \"bio\", \"wave\", \"tidal\", \"electric\", \n",
    "    \"hybrid\", \"bicycle\", \"walking\", \"public\", \"carpool\", \"telecommuting\", \"videoconferencing\", \n",
    "    \"remote\", \"wfh\", \"reforestation\", \"afforestation\", \"protection\", \"forest\", \"wetland\", \n",
    "    \"prairie\", \"coral\", \"mangrove\", \"reserve\", \"sanctuary\", \"wildlife\", \"ecosystem\", \"habitat\", \n",
    "    \"permaculture\", \"aquatic\", \"terrestrial\", \"floral\", \"fauna\", \"flora\", \"plant\", \"animal\", \n",
    "    \"water\", \"air\", \"earth\", \"environment\", \"climate\", \"energy\", \"fuel\", \"waste\", \"pollution\", \n",
    "    \"carbon\", \"emission\", \"recycling\", \"composting\", \"decomposing\", \"preservation\", \"non-toxic\", \n",
    "    \"zero-waste\", \"low-impact\", \"low-energy\", \"low-emission\", \"low-carbon\", \"efficient\", \n",
    "    \"durability\", \"long-lasting\", \"quality\", \"innovative\", \"resourceful\", \"responsible\", \n",
    "    \"conscious\", \"awareness\", \"education\", \"advocacy\", \"activism\", \"stewardship\", \"symbiotic\", \n",
    "    \"balance\", \"harmony\", \"synergy\", \"integrity\", \"holistic\", \"wholesome\", \"health\", \"wellness\", \n",
    "    \"vitality\", \"purity\", \"fresh\", \"raw\", \"whole\", \"nutrient\", \"nourish\", \"harvest\", \"cultivate\", \n",
    "    \"grow\", \"produce\", \"yield\", \"sow\", \"reap\", \"sun\", \"light\", \"heat\", \"water\", \"rain\", \"soil\", \n",
    "    \"land\", \"earth\", \"nature\", \"outdoor\", \"wild\", \"free\", \"life\", \"living\", \"alive\", \"grow\", \n",
    "    \"evolve\", \"adapt\", \"flourish\", \"thrive\", \"prosper\", \"blossom\", \"bloom\", \"regenerate\", \n",
    "    \"rejuvenate\", \"renew\", \"restore\", \"revitalize\", \"refresh\", \"revive\", \"recover\", \"heal\", \n",
    "}\n"
   ]
  },
  {
   "cell_type": "code",
   "execution_count": null,
   "metadata": {},
   "outputs": [],
   "source": [
    "def calculate_normalized_good_score_and_list_materials(\n",
    "    text: str, \n",
    "    good_materials_count_threshold: int = 5,\n",
    "):\n",
    "    words = re.findall(r'\\b\\w+\\b', text.lower())\n",
    "    materials = set()\n",
    "    for word in words:\n",
    "        if word in bio_friendly_materials_set:\n",
    "            materials.add(word)            \n",
    "    \n",
    "    if len(materials) >= good_materials_count_threshold:\n",
    "        normalized_score = 1.0\n",
    "    else:\n",
    "        normalized_score = len(materials) / max(1, good_materials_count_threshold) \n",
    "    \n",
    "    return normalized_score, materials"
   ]
  },
  {
   "cell_type": "code",
   "execution_count": null,
   "metadata": {},
   "outputs": [],
   "source": [
    "calculate_normalized_good_score_and_list_materials()"
   ]
  }
 ],
 "metadata": {
  "language_info": {
   "name": "python"
  },
  "orig_nbformat": 4
 },
 "nbformat": 4,
 "nbformat_minor": 2
}
