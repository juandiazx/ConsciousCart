{
 "cells": [
  {
   "cell_type": "code",
   "execution_count": 1,
   "metadata": {},
   "outputs": [],
   "source": [
    "import re\n",
    "import nltk\n",
    "from nltk.corpus import stopwords\n",
    "from nltk.stem import WordNetLemmatizer"
   ]
  },
  {
   "cell_type": "code",
   "execution_count": 2,
   "metadata": {},
   "outputs": [
    {
     "name": "stderr",
     "output_type": "stream",
     "text": [
      "[nltk_data] Downloading package wordnet to\n",
      "[nltk_data]     /Users/shravancheekati/nltk_data...\n",
      "[nltk_data] Downloading package punkt to\n",
      "[nltk_data]     /Users/shravancheekati/nltk_data...\n",
      "[nltk_data]   Unzipping tokenizers/punkt.zip.\n",
      "[nltk_data] Downloading package stopwords to\n",
      "[nltk_data]     /Users/shravancheekati/nltk_data...\n",
      "[nltk_data]   Unzipping corpora/stopwords.zip.\n"
     ]
    },
    {
     "data": {
      "text/plain": [
       "True"
      ]
     },
     "execution_count": 2,
     "metadata": {},
     "output_type": "execute_result"
    }
   ],
   "source": [
    "nltk.download('wordnet')\n",
    "nltk.download('punkt')\n",
    "nltk.download('stopwords')"
   ]
  },
  {
   "cell_type": "code",
   "execution_count": 3,
   "metadata": {},
   "outputs": [],
   "source": [
    "text = \"This product is made out of organic fiber cultivated from switzerland wheat farm\""
   ]
  },
  {
   "cell_type": "code",
   "execution_count": 4,
   "metadata": {},
   "outputs": [],
   "source": [
    "bio_friendly_materials_set = {\n",
    "    \"recyclable\", \"reusable\", \"compostable\", \"biodegradable\", \"sustainable\", \"green\", \n",
    "    \"organic\", \"renewable\", \"natural\", \"bamboo\", \"hemp\", \"jute\", \"cotton\", \"linen\", \n",
    "    \"wool\", \"silk\", \"cork\", \"soy\", \"paper\", \"cardboard\", \"glass\", \"metal\", \"aluminium\", \n",
    "    \"steel\", \"copper\", \"brass\", \"tin\", \"bioplastic\", \"upcycled\", \"solar\", \"wind\", \n",
    "    \"eco\", \"ethical\", \"fairtrade\", \"vegan\", \"clean\", \"pure\", \"untreated\", \"unbleached\", \n",
    "    \"undyed\", \"refillable\", \"degradable\", \"local\", \"handmade\", \"artisan\", \"bulk\", \n",
    "    \"conservation\", \"restoration\", \"biodiversity\", \"regenerative\", \"marine\", \"ocean\", \n",
    "    \"sea\", \"river\", \"lake\", \"stream\", \"air\", \"emission\", \"renewable\", \"alternative\", \n",
    "    \"biofuel\", \"hydropower\", \"hydroelectric\", \"solar\", \"wind\", \"geothermal\", \"bio\", \n",
    "    \"wave\", \"tidal\", \"electric\", \"hybrid\", \"bicycle\", \"walking\", \"public\", \"carpool\", \n",
    "    \"telecommuting\", \"videoconferencing\", \"remote\", \"wfh\", \"reforestation\", \"afforestation\", \n",
    "    \"protection\", \"forest\", \"wetland\", \"prairie\", \"coral\", \"mangrove\", \"reserve\", \n",
    "    \"sanctuary\", \"fisheries\", \"gardening\", \"landscaping\", \"building\", \"biofuel\", \"hydropower\", \"hydroelectric\", \n",
    "    \"geothermal\", \"bio\", \"wave\", \"tidal\", \"electric\", \n",
    "    \"hybrid\", \"bicycle\", \"walking\", \"public\", \"carpool\", \"telecommuting\", \"videoconferencing\", \n",
    "    \"remote\", \"wfh\", \"reforestation\", \"afforestation\", \"protection\", \"forest\", \"wetland\", \n",
    "    \"prairie\", \"coral\", \"mangrove\", \"reserve\", \"sanctuary\", \"wildlife\", \"ecosystem\", \"habitat\", \n",
    "    \"permaculture\", \"aquatic\", \"terrestrial\", \"floral\", \"fauna\", \"flora\", \"plant\", \"animal\", \n",
    "    \"water\", \"air\", \"earth\", \"environment\", \"climate\", \"energy\", \"fuel\", \"waste\", \"pollution\", \n",
    "    \"carbon\", \"emission\", \"recycling\", \"composting\", \"decomposing\", \"preservation\", \"non-toxic\", \n",
    "    \"zero-waste\", \"low-impact\", \"low-energy\", \"low-emission\", \"low-carbon\", \"efficient\", \n",
    "    \"durability\", \"long-lasting\", \"quality\", \"innovative\", \"resourceful\", \"responsible\", \n",
    "    \"conscious\", \"awareness\", \"education\", \"advocacy\", \"activism\", \"stewardship\", \"symbiotic\", \n",
    "    \"balance\", \"harmony\", \"synergy\", \"integrity\", \"holistic\", \"wholesome\", \"health\", \"wellness\", \n",
    "    \"vitality\", \"purity\", \"fresh\", \"raw\", \"whole\", \"nutrient\", \"nourish\", \"harvest\", \"cultivate\", \n",
    "    \"grow\", \"produce\", \"yield\", \"sow\", \"reap\", \"sun\", \"light\", \"heat\", \"water\", \"rain\", \"soil\", \n",
    "    \"land\", \"earth\", \"nature\", \"outdoor\", \"wild\", \"free\", \"life\", \"living\", \"alive\", \"grow\", \n",
    "    \"evolve\", \"adapt\", \"flourish\", \"thrive\", \"prosper\", \"blossom\", \"bloom\", \"regenerate\", \n",
    "    \"rejuvenate\", \"renew\", \"restore\", \"revitalize\", \"refresh\", \"revive\", \"recover\", \"heal\", \"farm\"\n",
    "}\n"
   ]
  },
  {
   "cell_type": "code",
   "execution_count": 5,
   "metadata": {},
   "outputs": [],
   "source": [
    "def calculate_normalized_good_score_and_list_materials(\n",
    "    text: str, \n",
    "    good_materials_count_threshold: int = 5,\n",
    "):\n",
    "    words = re.findall(r'\\b\\w+\\b', text.lower())\n",
    "    stop_words = set(stopwords.words('english'))\n",
    "    lemmatizer = WordNetLemmatizer()\n",
    "    processed_words = [lemmatizer.lemmatize(word) for word in words if word not in stop_words]\n",
    "    materials = set()\n",
    "    \n",
    "    for word in processed_words:\n",
    "        if word in bio_friendly_materials_set:\n",
    "            materials.add(word)            \n",
    "    \n",
    "    if len(materials) >= good_materials_count_threshold:\n",
    "        normalized_score = 1.0\n",
    "    else:\n",
    "        normalized_score = len(materials) / max(1, good_materials_count_threshold) \n",
    "    \n",
    "    return normalized_score, materials"
   ]
  },
  {
   "cell_type": "code",
   "execution_count": 6,
   "metadata": {},
   "outputs": [
    {
     "data": {
      "text/plain": [
       "(0.4, {'farm', 'organic'})"
      ]
     },
     "execution_count": 6,
     "metadata": {},
     "output_type": "execute_result"
    }
   ],
   "source": [
    "calculate_normalized_good_score_and_list_materials(text)"
   ]
  }
 ],
 "metadata": {
  "kernelspec": {
   "display_name": "Python 3",
   "language": "python",
   "name": "python3"
  },
  "language_info": {
   "codemirror_mode": {
    "name": "ipython",
    "version": 3
   },
   "file_extension": ".py",
   "mimetype": "text/x-python",
   "name": "python",
   "nbconvert_exporter": "python",
   "pygments_lexer": "ipython3",
   "version": "3.11.4"
  },
  "orig_nbformat": 4
 },
 "nbformat": 4,
 "nbformat_minor": 2
}
